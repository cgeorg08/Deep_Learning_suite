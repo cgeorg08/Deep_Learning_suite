{
 "cells": [
  {
   "cell_type": "code",
   "execution_count": 1,
   "metadata": {},
   "outputs": [],
   "source": [
    "import os\n",
    "\n",
    "# read data from files train_in.csv and train_out.csv\n",
    "train_in_list = list()\n",
    "train_out_list = list()\n",
    "\n",
    "file = open(os.path.dirname(os.path.abspath(\"__file__\")) + '/datasets/problem1_train_in.csv')\n",
    "lines = file.readlines()\n",
    "for line in lines:\n",
    "    vector = line.split(',')\n",
    "    clear_vector = []\n",
    "    for sub in vector:\n",
    "        clear_vector.append(sub.replace(\"\\n\", \"\"))\n",
    "    train_in_list.append(clear_vector)\n",
    "file.close()\n",
    "\n",
    "file = open(os.path.dirname(os.path.abspath(\"__file__\")) + '/datasets/problem1_train_out.csv')\n",
    "lines = file.readlines()\n",
    "for line in lines:\n",
    "    train_out_list.append(int(line[0]))\n",
    "file.close()"
   ]
  },
  {
   "cell_type": "code",
   "execution_count": 2,
   "metadata": {},
   "outputs": [],
   "source": [
    "# build numpy arrays\n",
    "# input_x (1707,257) => rows: len(training set), columns: input vector 256 + bias (always equal to 1)\n",
    "# w (10,257) => rows: len(neurons), columns: input vector 256 + bias\n",
    "# y_actual (1707,10) => rows: len(training set), columns: transformed output (for 10 neurons)\n",
    "# y_pred (10,1) => columns: predicted output (from 10 neurons)\n",
    "\n",
    "import numpy as np\n",
    "\n",
    "bias_array = np.ones(len(train_in_list))\n",
    "input_x = np.array(train_in_list,dtype='float64')\n",
    "input_x = np.c_[input_x,bias_array]\n",
    "\n",
    "w = np.random.rand(10,257).astype('float64')\n",
    "\n",
    "train_out_transform_list = list()\n",
    "for number in train_out_list:\n",
    "    current_list = list()\n",
    "    for index in range(10):\n",
    "        if index == number:\n",
    "            current_list.append(1)\n",
    "        else:\n",
    "            current_list.append(0)\n",
    "    train_out_transform_list.append(current_list)\n",
    "y_actual = np.array(train_out_transform_list,dtype='float64')\n",
    "\n",
    "#predictions per round\n",
    "y_pred = np.zeros(10,dtype='float64')\n",
    "\n",
    "# avoid weight connection equal to 0\n",
    "for (x,y), value in np.ndenumerate(w): \n",
    "    while w[x,y]==0.0: \n",
    "        w[x,y] = np.random.rand()"
   ]
  },
  {
   "cell_type": "code",
   "execution_count": 3,
   "metadata": {},
   "outputs": [],
   "source": [
    "def sigmoid(z):\n",
    "    return 1 / (1 + np.exp(-z))\n",
    "\n",
    "def phase_find_ouput(current_idx,current_x,w,y_pred,y_actual):\n",
    "    for neuron_out in range(10):\n",
    "        dot_product = np.dot(w[neuron_out],np.transpose(current_x))\n",
    "        y_pred[neuron_out] = sigmoid(dot_product)\n",
    "\n",
    "def phase_update_weights(LEARNING_RATE,current_idx,y_pred,current_x,w): \n",
    "    for i in range(w.shape[0]):\n",
    "        for j in range(w.shape[1]):\n",
    "            w[i][j] = w[i][j] + LEARNING_RATE*(y_actual[current_idx][i] - y_pred[i])*current_x[j]\n",
    "\n",
    "def calculate_success(y_actual,current_idx,y_pred):\n",
    "    global epoch_successcount\n",
    "    # print('current_idx = {} ------ np.argmax(y_pred) = {}'.format(current_idx,np.argmax(y_pred)))\n",
    "    if (y_actual[current_idx][np.argmax(y_pred)] == 1.0):\n",
    "        epoch_successcount += 1\n",
    "\n",
    "def calculate_error(y_actual,current_idx,y_pred):\n",
    "    global epoch_error\n",
    "    current_x_error = 0.0\n",
    "    for i in range(10):\n",
    "        current_x_error = current_x_error + (y_actual[current_idx][i] - y_pred[i])**2\n",
    "    current_x_error = current_x_error / 2\n",
    "    np.put(epoch_error,current_idx,current_x_error)"
   ]
  },
  {
   "cell_type": "code",
   "execution_count": 4,
   "metadata": {},
   "outputs": [
    {
     "name": "stderr",
     "output_type": "stream",
     "text": [
      "1707it [00:05, 339.24it/s]\n",
      "1707it [00:04, 344.35it/s]\n",
      "1707it [00:04, 345.84it/s]\n",
      "1707it [00:04, 345.25it/s]\n",
      "1707it [00:04, 346.52it/s]\n",
      "1707it [00:04, 348.59it/s]\n",
      "1707it [00:04, 347.68it/s]\n",
      "1707it [00:04, 350.94it/s]\n",
      "1707it [00:05, 333.49it/s]\n",
      "1707it [00:05, 331.05it/s]\n",
      "1707it [00:05, 338.56it/s]\n",
      "1707it [00:04, 350.31it/s]\n",
      "1707it [00:04, 344.04it/s]\n",
      "1707it [00:04, 360.69it/s]\n",
      "1707it [00:04, 352.26it/s]\n",
      "1707it [00:04, 349.62it/s]\n",
      "1707it [00:05, 336.25it/s]\n",
      "1707it [00:04, 348.06it/s]\n",
      "1707it [00:04, 363.66it/s]\n",
      "1707it [00:04, 351.85it/s]"
     ]
    },
    {
     "name": "stdout",
     "output_type": "stream",
     "text": [
      "EPOCH: 1\n",
      "> epoch_successcount = 1397 -- (success = 81.83948447568834%)\n",
      "> errorrate = 0.20372623882393012\n",
      "***********************************************************\n",
      "EPOCH: 2\n",
      "> epoch_successcount = 1552 -- (success = 90.91974223784418%)\n",
      "> errorrate = 0.11884100175070657\n",
      "***********************************************************\n",
      "EPOCH: 3\n",
      "> epoch_successcount = 1606 -- (success = 94.08318687756298%)\n",
      "> errorrate = 0.08732130152197899\n",
      "***********************************************************\n",
      "EPOCH: 4\n",
      "> epoch_successcount = 1617 -- (success = 94.72759226713532%)\n",
      "> errorrate = 0.07840947445929272\n",
      "***********************************************************\n",
      "EPOCH: 5\n",
      "> epoch_successcount = 1628 -- (success = 95.37199765670768%)\n",
      "> errorrate = 0.06652424545046065\n",
      "***********************************************************\n",
      "EPOCH: 6\n",
      "> epoch_successcount = 1637 -- (success = 95.89923842999414%)\n",
      "> errorrate = 0.06353172096966413\n",
      "***********************************************************\n",
      "EPOCH: 7\n",
      "> epoch_successcount = 1641 -- (success = 96.13356766256591%)\n",
      "> errorrate = 0.0602746443832979\n",
      "***********************************************************\n",
      "EPOCH: 8\n",
      "> epoch_successcount = 1655 -- (success = 96.95371997656707%)\n",
      "> errorrate = 0.051858651887974935\n",
      "***********************************************************\n",
      "EPOCH: 9\n",
      "> epoch_successcount = 1665 -- (success = 97.53954305799648%)\n",
      "> errorrate = 0.04506110210160784\n",
      "***********************************************************\n",
      "EPOCH: 10\n",
      "> epoch_successcount = 1655 -- (success = 96.95371997656707%)\n",
      "> errorrate = 0.04960393218944851\n",
      "***********************************************************\n",
      "EPOCH: 11\n",
      "> epoch_successcount = 1669 -- (success = 97.77387229056825%)\n",
      "> errorrate = 0.039558080023711646\n",
      "***********************************************************\n",
      "EPOCH: 12\n",
      "> epoch_successcount = 1673 -- (success = 98.00820152314002%)\n",
      "> errorrate = 0.041055134347883854\n",
      "***********************************************************\n",
      "EPOCH: 13\n",
      "> epoch_successcount = 1677 -- (success = 98.24253075571177%)\n",
      "> errorrate = 0.0398020132161522\n",
      "***********************************************************\n",
      "EPOCH: 14\n",
      "> epoch_successcount = 1676 -- (success = 98.18394844756884%)\n",
      "> errorrate = 0.03765529708956776\n",
      "***********************************************************\n",
      "EPOCH: 15\n",
      "> epoch_successcount = 1675 -- (success = 98.12536613942589%)\n",
      "> errorrate = 0.03447062173283565\n",
      "***********************************************************\n",
      "EPOCH: 16\n",
      "> epoch_successcount = 1681 -- (success = 98.47685998828354%)\n",
      "> errorrate = 0.0346386242185273\n",
      "***********************************************************\n",
      "EPOCH: 17\n",
      "> epoch_successcount = 1688 -- (success = 98.88693614528412%)\n",
      "> errorrate = 0.02611641707013875\n",
      "***********************************************************\n",
      "EPOCH: 18\n",
      "> epoch_successcount = 1694 -- (success = 99.23842999414177%)\n",
      "> errorrate = 0.025817199438831578\n",
      "***********************************************************\n",
      "EPOCH: 19\n",
      "> epoch_successcount = 1687 -- (success = 98.82835383714118%)\n",
      "> errorrate = 0.029485298384839848\n",
      "***********************************************************\n",
      "EPOCH: 20\n",
      "> epoch_successcount = 1694 -- (success = 99.23842999414177%)\n",
      "> errorrate = 0.02360094899373622\n",
      "***********************************************************\n"
     ]
    },
    {
     "name": "stderr",
     "output_type": "stream",
     "text": [
      "\n"
     ]
    }
   ],
   "source": [
    "from tqdm import tqdm\n",
    "\n",
    "# constants\n",
    "NUM_OF_EPOCHS = 20\n",
    "LEARNING_RATE = 0.2\n",
    "\n",
    "successrate_list = []       # for all epochs\n",
    "errorrate_list = []         # for all epochs\n",
    "\n",
    "for epoch in range(NUM_OF_EPOCHS):\n",
    "\n",
    "    epoch_successcount = 0                      # per epoch\n",
    "    epoch_error = np.empty(len(input_x))        # per epoch\n",
    "\n",
    "    for current_idx, current_x in tqdm(enumerate(input_x)):\n",
    "        phase_find_ouput(current_idx,current_x,w,y_pred,y_actual)\n",
    "        phase_update_weights(LEARNING_RATE,current_idx,y_pred,current_x,w)\n",
    "\n",
    "        calculate_success(y_actual,current_idx,y_pred)\n",
    "        calculate_error(y_actual,current_idx,y_pred)\n",
    "\n",
    "    successrate_list.append(epoch_successcount)\n",
    "    errorrate_list.append(np.mean(epoch_error))\n",
    "        \n",
    "\n",
    "for epoch in range(NUM_OF_EPOCHS):\n",
    "    print('EPOCH: {}'.format(epoch+1))\n",
    "    print('> epoch_successcount = {} -- (success = {}%)'.format(successrate_list[epoch],successrate_list[epoch]*100/len(input_x)))\n",
    "    print('> errorrate = {}'.format(errorrate_list[epoch]))\n",
    "    print('***********************************************************')"
   ]
  },
  {
   "cell_type": "code",
   "execution_count": 11,
   "metadata": {},
   "outputs": [
    {
     "data": {
      "image/png": "[encoded data removed]",
      "text/plain": [
       "<Figure size 432x288 with 1 Axes>"
      ]
     },
     "metadata": {
      "needs_background": "light"
     },
     "output_type": "display_data"
    },
    {
     "data": {
      "image/png": "[encoded data removed]",
      "text/plain": [
       "<Figure size 432x288 with 1 Axes>"
      ]
     },
     "metadata": {
      "needs_background": "light"
     },
     "output_type": "display_data"
    }
   ],
   "source": [
    "import matplotlib.pyplot as plt\n",
    "\n",
    "plt.plot(range(NUM_OF_EPOCHS), errorrate_list) \n",
    "plt.xlabel(\"EPOCHS\")\n",
    "plt.ylabel(\"ERROR\")\n",
    "plt.title(\"ERROR THROUGH EPOCHS\")\n",
    "plt.show()  \n",
    "\n",
    "norm_successrate_list = list()\n",
    "for epoch in range(NUM_OF_EPOCHS):\n",
    "    norm_successrate_list.append(successrate_list[epoch]*100/len(input_x))\n",
    "plt.figure()\n",
    "plt.plot(range(NUM_OF_EPOCHS), norm_successrate_list)\n",
    "plt.xlabel(\"EPOCHS\")\n",
    "plt.ylabel(\"SUCCESS\")\n",
    "plt.title(\"SUCCESS THROUGH EPOCHS\")\n",
    "plt.show()  "
   ]
  },
  {
   "cell_type": "code",
   "execution_count": null,
   "metadata": {},
   "outputs": [],
   "source": []
  },
  {
   "cell_type": "code",
   "execution_count": 6,
   "metadata": {},
   "outputs": [],
   "source": [
    "# TESTING PHASE"
   ]
  },
  {
   "cell_type": "code",
   "execution_count": 12,
   "metadata": {},
   "outputs": [],
   "source": [
    "# read data from files test_in.csv and test_out.csv\n",
    "test_in_list = list()\n",
    "test_out_list = list()\n",
    "\n",
    "file = open(os.path.dirname(os.path.abspath(\"__file__\")) + '/datasets/problem1_test_in.csv')\n",
    "lines = file.readlines()\n",
    "for line in lines:\n",
    "    vector = line.split(',')\n",
    "    clear_vector = []\n",
    "    for sub in vector:\n",
    "        clear_vector.append(sub.replace(\"\\n\", \"\"))\n",
    "    test_in_list.append(clear_vector)\n",
    "file.close()\n",
    "\n",
    "file = open(os.path.dirname(os.path.abspath(\"__file__\")) + '/datasets/problem1_test_out.csv')\n",
    "lines = file.readlines()\n",
    "for line in lines:\n",
    "    test_out_list.append(int(line[0]))\n",
    "file.close()"
   ]
  },
  {
   "cell_type": "code",
   "execution_count": 13,
   "metadata": {},
   "outputs": [],
   "source": [
    "# build numpy arrays\n",
    "# input_x (1000,257) => rows: len(testing set), columns: input vector 256 + bias (always equal to 1)\n",
    "# **SAME AS ABOVE -  DID NOT CHANGE**w (10,257) => rows: len(neurons), columns: input vector 256 + bias\n",
    "# y_actual (1000,10) => rows: len(testing set), columns: transformed output (for 10 neurons)\n",
    "# y_pred (10,1) => columns: predicted output (from 10 neurons)\n",
    "\n",
    "import numpy as np\n",
    "\n",
    "bias_array = np.ones(len(test_in_list))\n",
    "input_x = np.array(test_in_list,dtype='float64')\n",
    "input_x = np.c_[input_x,bias_array]\n",
    "\n",
    "test_out_transform_list = list()\n",
    "for number in test_out_list:\n",
    "    current_list = list()\n",
    "    for index in range(10):\n",
    "        if index == number:\n",
    "            current_list.append(1)\n",
    "        else:\n",
    "            current_list.append(0)\n",
    "    test_out_transform_list.append(current_list)\n",
    "y_actual = np.array(test_out_transform_list,dtype='float64')\n",
    "\n",
    "#predictions per round\n",
    "y_pred = np.zeros(10,dtype='float64')"
   ]
  },
  {
   "cell_type": "code",
   "execution_count": 14,
   "metadata": {},
   "outputs": [
    {
     "name": "stderr",
     "output_type": "stream",
     "text": [
      "1000it [00:00, 14880.49it/s]"
     ]
    },
    {
     "name": "stdout",
     "output_type": "stream",
     "text": [
      "TESTING PHASE\n",
      "> epoch_successcount = 868 -- (success = 86.8%)\n",
      "> errorrate = 0.15296448814829872\n",
      "***********************************************************\n"
     ]
    },
    {
     "name": "stderr",
     "output_type": "stream",
     "text": [
      "\n"
     ]
    }
   ],
   "source": [
    "from tqdm import tqdm\n",
    "\n",
    "successrate_list = []       # for all epochs\n",
    "errorrate_list = []         # for all epochs\n",
    "\n",
    "\n",
    "epoch_successcount = 0                      # per epoch\n",
    "epoch_error = np.empty(len(input_x))        # per epoch\n",
    "\n",
    "for current_idx, current_x in tqdm(enumerate(input_x)):\n",
    "    phase_find_ouput(current_idx,current_x,w,y_pred,y_actual)\n",
    "\n",
    "    calculate_success(y_actual,current_idx,y_pred)\n",
    "    calculate_error(y_actual,current_idx,y_pred)\n",
    "\n",
    "successrate_list.append(epoch_successcount)\n",
    "errorrate_list.append(np.mean(epoch_error))\n",
    "        \n",
    "\n",
    "print('TESTING PHASE')\n",
    "print('> epoch_successcount = {} -- (success = {}%)'.format(successrate_list[0],successrate_list[0]*100/len(input_x)))\n",
    "print('> errorrate = {}'.format(errorrate_list[0]))\n",
    "print('***********************************************************')"
   ]
  }
 ],
 "metadata": {
  "kernelspec": {
   "display_name": "Python 3.10.5 64-bit",
   "language": "python",
   "name": "python3"
  },
  "language_info": {
   "codemirror_mode": {
    "name": "ipython",
    "version": 3
   },
   "file_extension": ".py",
   "mimetype": "text/x-python",
   "name": "python",
   "nbconvert_exporter": "python",
   "pygments_lexer": "ipython3",
   "version": "3.10.5"
  },
  "orig_nbformat": 4,
  "vscode": {
   "interpreter": {
    "hash": "afb734500600fd355917ca529030176ea0ca205570884b88f2f6f7d791fd3fbe"
   }
  }
 },
 "nbformat": 4,
 "nbformat_minor": 2
}
