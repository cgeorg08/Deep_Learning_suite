{
 "cells": [
  {
   "cell_type": "code",
   "execution_count": 1,
   "metadata": {},
   "outputs": [],
   "source": [
    "# imports\n",
    "\n",
    "import os \n",
    "import math\n",
    "import numpy as np \n",
    "from tqdm import tqdm\n",
    "import matplotlib.pyplot as plt\n",
    "\n",
    "\n",
    "# methods\n",
    "\n",
    "'''\n",
    "Map each letter to a number in the range 0-25 (26 letters in total).\n",
    "'''\n",
    "def letter2num(letter):\n",
    "    return int(ord(letter) - 65)\n",
    "\n",
    "'''\n",
    "Add +1 column for the bias. \n",
    "'''\n",
    "def add_bias_input(X):\n",
    "    bias_array = np.ones(len(X))\n",
    "    X = np.c_[X,bias_array]\n",
    "    return X\n",
    "\n",
    "'''\n",
    "Shuffle the data.\n",
    "'''\n",
    "def shuffle_data(X, y,features):\n",
    "    data_table = np.c_[X,y]\n",
    "    np.random.shuffle(data_table)\n",
    "    return data_table[:,:features], data_table[:,features]\n",
    "\n",
    "'''\n",
    "Split the data of a given table (input or output) into training and testing sets considering a fraction.\n",
    "'''\n",
    "def train_test_split(table,fraction):\n",
    "    train_size = len(table) * fraction\n",
    "    train_size = math.floor(train_size)\n",
    "    test_size = train_size + 1\n",
    "    return table[:test_size], table[test_size:]\n",
    "\n",
    "'''\n",
    "Create numpy array (either 1d or 2d) and fill it with NaNs.\n",
    "'''\n",
    "def create_array(dim1, dim2):\n",
    "    if dim2 != 0:   # 2d\n",
    "        arr=np.empty((dim1,dim2))\n",
    "    else:           # 1d\n",
    "        arr=np.empty(dim1)\n",
    "    arr.fill(np.NaN)\n",
    "    return arr\n",
    "\n",
    "'''\n",
    "Sigmoid activation function.\n",
    "'''\n",
    "def sigmoid(z):\n",
    "    return 1 / (1 + np.exp(-z))\n",
    "\n",
    "'''\n",
    "Apply the forward pass: find the values of the neurons using the dot product. \n",
    "'''\n",
    "def forward_phase(x_array, row, numLayers):\n",
    "    if numLayers == 4:\n",
    "        for i in range(numHid1):\n",
    "            nodesHid1_values[i] = sigmoid(np.dot(x_array[row,:],in2hid_weights[:,i]))\n",
    "        for i in range(numHid2):\n",
    "            nodesHid2_values[i] = sigmoid(np.dot(nodesHid1_values[:],hid2hid_weights[:,i]))\n",
    "        for i in range(numOutput):\n",
    "            nodesOut_values[i] = sigmoid(np.dot(nodesHid2_values[:],hid2out_weights[:,i]))\n",
    "\n",
    "    if numLayers == 3:\n",
    "        for i in range(numHid1):\n",
    "            nodesHid1_values[i] = sigmoid(np.dot(x_array[row,:],in2hid_weights[:,i]))\n",
    "        for i in range(numOutput):\n",
    "            nodesOut_values[i] = sigmoid(np.dot(nodesHid1_values[:],hid2out_weights[:,i]))\n",
    "\n",
    "'''\n",
    "Return 1 if the current image is classified correctly.\n",
    "'''\n",
    "def calculate_success(target_values):\n",
    "    if target_values[np.argmax(nodesOut_values)] == 1:\n",
    "        return 1\n",
    "    return 0\n",
    "\n",
    "'''\n",
    "Return \"cost\" of the current image to find Mean Square Error in the end of the epoch.\n",
    "'''\n",
    "def calculate_error(target_values):\n",
    "    return sum(np.square(nodesOut_values - target_values))\n",
    "\n",
    "def make_target_values(row, table):\n",
    "    arr=np.zeros(26)\n",
    "    arr[int(table[row])] = 1\n",
    "    return arr\n",
    "\n",
    "'''\n",
    "Update weights using the negative gradient to minimize the error.\n",
    "'''\n",
    "def backward_phase(row, target_values):\n",
    "    global nodesOut_deriv\n",
    "    nodesOut_deriv = nodesOut_values - target_values\n",
    "    for i in range(hid2out_weights.shape[0]):\n",
    "        for j in range(hid2out_weights.shape[1]):\n",
    "            tmp = hid2out_weights[i][j]\n",
    "            hid2out_weights[i][j] = hid2out_weights[i][j] - learning_rate * (nodesHid2_values[i] * nodesOut_values[j] * (1-nodesOut_values[j]) * nodesOut_deriv[j]) + momentum * (hid2out_weights[i][j] - hid2out_oldweights[i][j])\n",
    "            hid2out_oldweights[i][j] = tmp\n",
    "    \n",
    "    for z in range(nodesHid2_deriv.shape[0]):\n",
    "        nodesHid2_deriv[z] = 0\n",
    "        for w in range(numOutput):\n",
    "            nodesHid2_deriv[z] = nodesHid2_deriv[z] + (hid2out_weights[z][w] * nodesOut_values[w] * (1-nodesOut_values[w]) * nodesOut_deriv[w])\n",
    "    for i in range(hid2hid_weights.shape[0]):\n",
    "        for j in range(hid2hid_weights.shape[1]):\n",
    "            tmp = hid2hid_weights[i][j]\n",
    "            hid2hid_weights[i][j] = hid2hid_weights[i][j] - learning_rate * (nodesHid1_values[i] * nodesHid2_values[j] * (1-nodesHid2_values[j]) * nodesHid2_deriv[j]) + momentum * (hid2hid_weights[i][j] - hid2hid_oldweights[i][j])\n",
    "            hid2hid_oldweights[i][j] = tmp\n",
    "\n",
    "    for z in range(nodesHid1_deriv.shape[0]):\n",
    "        nodesHid1_deriv[z] = 0\n",
    "        for w in range(numHid2):\n",
    "            nodesHid1_deriv[z] = nodesHid1_deriv[z] + (hid2hid_weights[z][w] * nodesHid2_values[w] * (1-nodesHid2_values[w]) * nodesHid2_deriv[w])\n",
    "    for i in range(in2hid_weights.shape[0]):\n",
    "        for j in range(in2hid_weights.shape[1]):\n",
    "            tmp = in2hid_weights[i][j]\n",
    "            in2hid_weights[i][j] = in2hid_weights[i][j] - learning_rate * (X_train[row][i] * nodesHid1_values[j] * (1-nodesHid1_values[j]) * nodesHid1_deriv[j]) + momentum * (in2hid_weights[i][j] - in2hid_oldweights[i][j])\n",
    "            in2hid_oldweights[i][j] = tmp\n",
    "\n",
    "'''\n",
    "Update weights using the negative gradient to minimize the error.\n",
    "'''\n",
    "def backward_phase_lay3(row, target_values):\n",
    "    global nodesOut_deriv\n",
    "    nodesOut_deriv = nodesOut_values - target_values\n",
    "    for i in range(hid2out_weights.shape[0]):\n",
    "        for j in range(hid2out_weights.shape[1]):\n",
    "            tmp = hid2out_weights[i][j]\n",
    "            hid2out_weights[i][j] = hid2out_weights[i][j] - learning_rate * (nodesHid1_values[i] * nodesOut_values[j] * (1-nodesOut_values[j]) * nodesOut_deriv[j]) + momentum * (hid2out_weights[i][j] - hid2out_oldweights[i][j])\n",
    "            hid2out_oldweights[i][j] = tmp\n",
    "    \n",
    "    for z in range(nodesHid1_deriv.shape[0]):\n",
    "        nodesHid1_deriv[z] = 0\n",
    "        for w in range(numOutput):\n",
    "            nodesHid1_deriv[z] = nodesHid1_deriv[z] + (hid2out_weights[z][w] * nodesOut_values[w] * (1-nodesOut_values[w]) * nodesOut_deriv[w])\n",
    "    for i in range(in2hid_weights.shape[0]):\n",
    "        for j in range(in2hid_weights.shape[1]):\n",
    "            tmp = in2hid_weights[i][j]\n",
    "            in2hid_weights[i][j] = in2hid_weights[i][j] - learning_rate * (X_train[row][i] * nodesHid1_values[j] * (1-nodesHid1_values[j]) * nodesHid1_deriv[j]) + momentum * (in2hid_weights[i][j] - in2hid_oldweights[i][j])\n",
    "            in2hid_oldweights[i][j] = tmp\n",
    "\n",
    "\n",
    "'''\n",
    "Vizualize monitored metric.\n",
    "'''\n",
    "def vizual(metric, label):\n",
    "    plt.plot(metric)\n",
    "\n",
    "    plt.xlabel(\"EPOCHS\")\n",
    "    plt.ylabel(label)\n",
    "    plt.title('{} over the EPOCHS'.format(label))\n",
    "    plt.show()"
   ]
  },
  {
   "cell_type": "code",
   "execution_count": 2,
   "metadata": {},
   "outputs": [],
   "source": [
    "X = list()\n",
    "y = list()\n",
    "\n",
    "# load the data\n",
    "file = open(os.path.dirname(os.path.abspath(\"__file__\")) + '/datasets/problem2_data.txt')\n",
    "for line in file.readlines():\n",
    "    vector = line.split(',')\n",
    "\n",
    "    y.append(letter2num(vector[0]))\n",
    "    current_list = list()\n",
    "    for i in range(1,len(vector)):\n",
    "        num = int(vector[i].replace('\\n', ''))\n",
    "        num = num / 15.0    # scaling\n",
    "        current_list.append(num)\n",
    "    X.append(current_list)\n",
    "file.close()\n",
    "\n",
    "# add bias\n",
    "np.random.seed(10)\n",
    "X = add_bias_input(X)\n",
    "\n",
    "# shuffle the data\n",
    "features = X.shape[1]\n",
    "X, y = shuffle_data(X, y,features)\n",
    "\n",
    "# split to train and test sets\n",
    "fraction = 0.7\n",
    "X_train, X_test = train_test_split(X,fraction)\n",
    "y_train, y_test = train_test_split(y,fraction)"
   ]
  },
  {
   "cell_type": "code",
   "execution_count": 3,
   "metadata": {},
   "outputs": [],
   "source": [
    "# Neural network constants\n",
    "\n",
    "numInput = features\n",
    "numHid1 = 10\n",
    "numHid2 = 30\n",
    "numOutput = 26 # letters of english alphabet\n",
    "numLayers = 4\n",
    "if numLayers == 3:      # make numHid2 equal to numHid1 and ignore weights between them, derivatives and values\n",
    "    numHid2 = numHid1\n",
    "\n",
    "learning_rate = 0.99\n",
    "epochs = 40\n",
    "momentum = 0.8\n",
    "\n",
    "# weights\n",
    "# in2hid_weights = np.random.rand(numInput,numHid1)\n",
    "# hid2out_weights = np.random.rand(numHid2,numOutput)\n",
    "in2hid_weights = np.random.uniform(low=-1,high=1,size=(numInput,numHid1))\n",
    "hid2out_weights = np.random.uniform(low=-1,high=1,size=(numHid2,numOutput))\n",
    "\n",
    "# old weights\n",
    "in2hid_oldweights = np.copy(in2hid_weights)\n",
    "hid2out_oldweights = np.copy(hid2out_weights)    \n",
    "\n",
    "# values\n",
    "nodesHid1_values = create_array(dim1=numHid1,dim2=0)\n",
    "nodesOut_values = create_array(dim1=numOutput,dim2=0)\n",
    "\n",
    "# derivatives\n",
    "nodesHid1_deriv = create_array(dim1=numHid1,dim2=0)\n",
    "nodesOut_deriv = create_array(dim1=numOutput,dim2=0)\n",
    "\n",
    "if numLayers == 4:\n",
    "    hid2hid_weights = np.random.rand(numHid1,numHid2)\n",
    "    hid2hid_oldweights = np.copy(hid2hid_weights)\n",
    "    nodesHid2_values = create_array(dim1=numHid2,dim2=0)\n",
    "    nodesHid2_deriv = create_array(dim1=numHid2,dim2=0)"
   ]
  },
  {
   "cell_type": "code",
   "execution_count": 4,
   "metadata": {},
   "outputs": [
    {
     "name": "stderr",
     "output_type": "stream",
     "text": [
      "  0%|          | 0/40 [00:00<?, ?it/s]"
     ]
    },
    {
     "name": "stderr",
     "output_type": "stream",
     "text": [
      "  2%|▎         | 1/40 [00:16<10:33, 16.23s/it]"
     ]
    },
    {
     "name": "stdout",
     "output_type": "stream",
     "text": [
      "EPOCH: 0 | SUCCESS: 538 | MSE: 1.9164594764937\n"
     ]
    },
    {
     "name": "stderr",
     "output_type": "stream",
     "text": [
      "  5%|▌         | 2/40 [00:33<10:32, 16.65s/it]"
     ]
    },
    {
     "name": "stdout",
     "output_type": "stream",
     "text": [
      "EPOCH: 1 | SUCCESS: 563 | MSE: 1.7979261164642366\n"
     ]
    },
    {
     "name": "stderr",
     "output_type": "stream",
     "text": [
      "  8%|▊         | 3/40 [00:50<10:33, 17.13s/it]"
     ]
    },
    {
     "name": "stdout",
     "output_type": "stream",
     "text": [
      "EPOCH: 2 | SUCCESS: 565 | MSE: 1.918910453007347\n"
     ]
    },
    {
     "name": "stderr",
     "output_type": "stream",
     "text": [
      " 10%|█         | 4/40 [01:08<10:24, 17.35s/it]"
     ]
    },
    {
     "name": "stdout",
     "output_type": "stream",
     "text": [
      "EPOCH: 3 | SUCCESS: 565 | MSE: 1.9187258736852368\n"
     ]
    },
    {
     "name": "stderr",
     "output_type": "stream",
     "text": [
      " 10%|█         | 4/40 [01:15<11:23, 18.98s/it]\n"
     ]
    },
    {
     "ename": "KeyboardInterrupt",
     "evalue": "",
     "output_type": "error",
     "traceback": [
      "\u001b[1;31m---------------------------------------------------------------------------\u001b[0m",
      "\u001b[1;31mKeyboardInterrupt\u001b[0m                         Traceback (most recent call last)",
      "\u001b[1;32mc:\\Users\\User\\Documents\\GitHub\\Deep_Learning_suite\\2. Digit Recognition\\neural_net_problem2_backup.ipynb Cell 4\u001b[0m in \u001b[0;36m<cell line: 5>\u001b[1;34m()\u001b[0m\n\u001b[0;32m      <a href='vscode-notebook-cell:/c%3A/Users/User/Documents/GitHub/Deep_Learning_suite/2.%20Digit%20Recognition/neural_net_problem2_backup.ipynb#W3sZmlsZQ%3D%3D?line=7'>8</a>\u001b[0m epoch_mse \u001b[39m=\u001b[39m \u001b[39m0\u001b[39m\n\u001b[0;32m     <a href='vscode-notebook-cell:/c%3A/Users/User/Documents/GitHub/Deep_Learning_suite/2.%20Digit%20Recognition/neural_net_problem2_backup.ipynb#W3sZmlsZQ%3D%3D?line=9'>10</a>\u001b[0m \u001b[39mfor\u001b[39;00m row \u001b[39min\u001b[39;00m \u001b[39mrange\u001b[39m(X_train\u001b[39m.\u001b[39mshape[\u001b[39m0\u001b[39m]):\n\u001b[0;32m     <a href='vscode-notebook-cell:/c%3A/Users/User/Documents/GitHub/Deep_Learning_suite/2.%20Digit%20Recognition/neural_net_problem2_backup.ipynb#W3sZmlsZQ%3D%3D?line=10'>11</a>\u001b[0m \n\u001b[0;32m     <a href='vscode-notebook-cell:/c%3A/Users/User/Documents/GitHub/Deep_Learning_suite/2.%20Digit%20Recognition/neural_net_problem2_backup.ipynb#W3sZmlsZQ%3D%3D?line=11'>12</a>\u001b[0m     \u001b[39m# forward phase\u001b[39;00m\n\u001b[1;32m---> <a href='vscode-notebook-cell:/c%3A/Users/User/Documents/GitHub/Deep_Learning_suite/2.%20Digit%20Recognition/neural_net_problem2_backup.ipynb#W3sZmlsZQ%3D%3D?line=12'>13</a>\u001b[0m     forward_phase(X_train, row, numLayers)\n\u001b[0;32m     <a href='vscode-notebook-cell:/c%3A/Users/User/Documents/GitHub/Deep_Learning_suite/2.%20Digit%20Recognition/neural_net_problem2_backup.ipynb#W3sZmlsZQ%3D%3D?line=14'>15</a>\u001b[0m     \u001b[39m# calculate success and error\u001b[39;00m\n\u001b[0;32m     <a href='vscode-notebook-cell:/c%3A/Users/User/Documents/GitHub/Deep_Learning_suite/2.%20Digit%20Recognition/neural_net_problem2_backup.ipynb#W3sZmlsZQ%3D%3D?line=15'>16</a>\u001b[0m     target_values \u001b[39m=\u001b[39m make_target_values(row, y_train)\n",
      "\u001b[1;32mc:\\Users\\User\\Documents\\GitHub\\Deep_Learning_suite\\2. Digit Recognition\\neural_net_problem2_backup.ipynb Cell 4\u001b[0m in \u001b[0;36mforward_phase\u001b[1;34m(x_array, row, numLayers)\u001b[0m\n\u001b[0;32m     <a href='vscode-notebook-cell:/c%3A/Users/User/Documents/GitHub/Deep_Learning_suite/2.%20Digit%20Recognition/neural_net_problem2_backup.ipynb#W3sZmlsZQ%3D%3D?line=65'>66</a>\u001b[0m     nodesHid1_values[i] \u001b[39m=\u001b[39m sigmoid(np\u001b[39m.\u001b[39mdot(x_array[row,:],in2hid_weights[:,i]))\n\u001b[0;32m     <a href='vscode-notebook-cell:/c%3A/Users/User/Documents/GitHub/Deep_Learning_suite/2.%20Digit%20Recognition/neural_net_problem2_backup.ipynb#W3sZmlsZQ%3D%3D?line=66'>67</a>\u001b[0m \u001b[39mfor\u001b[39;00m i \u001b[39min\u001b[39;00m \u001b[39mrange\u001b[39m(numHid2):\n\u001b[1;32m---> <a href='vscode-notebook-cell:/c%3A/Users/User/Documents/GitHub/Deep_Learning_suite/2.%20Digit%20Recognition/neural_net_problem2_backup.ipynb#W3sZmlsZQ%3D%3D?line=67'>68</a>\u001b[0m     nodesHid2_values[i] \u001b[39m=\u001b[39m sigmoid(np\u001b[39m.\u001b[39;49mdot(nodesHid1_values[:],hid2hid_weights[:,i]))\n\u001b[0;32m     <a href='vscode-notebook-cell:/c%3A/Users/User/Documents/GitHub/Deep_Learning_suite/2.%20Digit%20Recognition/neural_net_problem2_backup.ipynb#W3sZmlsZQ%3D%3D?line=68'>69</a>\u001b[0m \u001b[39mfor\u001b[39;00m i \u001b[39min\u001b[39;00m \u001b[39mrange\u001b[39m(numOutput):\n\u001b[0;32m     <a href='vscode-notebook-cell:/c%3A/Users/User/Documents/GitHub/Deep_Learning_suite/2.%20Digit%20Recognition/neural_net_problem2_backup.ipynb#W3sZmlsZQ%3D%3D?line=69'>70</a>\u001b[0m     nodesOut_values[i] \u001b[39m=\u001b[39m sigmoid(np\u001b[39m.\u001b[39mdot(nodesHid2_values[:],hid2out_weights[:,i]))\n",
      "File \u001b[1;32m<__array_function__ internals>:180\u001b[0m, in \u001b[0;36mdot\u001b[1;34m(*args, **kwargs)\u001b[0m\n",
      "\u001b[1;31mKeyboardInterrupt\u001b[0m: "
     ]
    }
   ],
   "source": [
    "success_list = list()\n",
    "mse_list = list()\n",
    "counter = 0\n",
    "\n",
    "for ep in tqdm(range(epochs)):\n",
    "\n",
    "    epoch_success = 0\n",
    "    epoch_mse = 0\n",
    "\n",
    "    for row in range(X_train.shape[0]):\n",
    "\n",
    "        # forward phase\n",
    "        forward_phase(X_train, row, numLayers)\n",
    "\n",
    "        # calculate success and error\n",
    "        target_values = make_target_values(row, y_train)\n",
    "        epoch_success += calculate_success(target_values)\n",
    "        epoch_mse += calculate_error(target_values)\n",
    "\n",
    "        # backward phase\n",
    "        counter += 1\n",
    "        if counter % 4 == 0:\n",
    "            if numLayers == 4:\n",
    "                backward_phase(row, target_values)\n",
    "            else:\n",
    "                backward_phase_lay3(row, target_values)\n",
    "\n",
    "    epoch_mse = epoch_mse / X_train.shape[0]\n",
    "\n",
    "    success_list.append(epoch_success)\n",
    "    mse_list.append(epoch_mse)\n",
    "\n",
    "    print('EPOCH: {} | SUCCESS: {} | MSE: {}'.format(ep, epoch_success, epoch_mse))"
   ]
  },
  {
   "cell_type": "code",
   "execution_count": 6,
   "metadata": {},
   "outputs": [
    {
     "data": {
      "image/png": "[encoded data removed]",
      "text/plain": [
       "<Figure size 432x288 with 1 Axes>"
      ]
     },
     "metadata": {
      "needs_background": "light"
     },
     "output_type": "display_data"
    },
    {
     "data": {
      "image/png": "[encoded data removed]",
      "text/plain": [
       "<Figure size 432x288 with 1 Axes>"
      ]
     },
     "metadata": {
      "needs_background": "light"
     },
     "output_type": "display_data"
    }
   ],
   "source": [
    "vizual(success_list,'success')\n",
    "vizual(mse_list,'mse')"
   ]
  },
  {
   "cell_type": "code",
   "execution_count": 7,
   "metadata": {},
   "outputs": [
    {
     "name": "stdout",
     "output_type": "stream",
     "text": [
      "During testing: \n",
      "MSE :  0.3125745996560551\n",
      "Success: 4683 (out of 5999)\n"
     ]
    }
   ],
   "source": [
    "test_success = 0\n",
    "test_mse = 0\n",
    "for row in range(X_test.shape[0]):\n",
    "\n",
    "    # forward phase\n",
    "    forward_phase(X_test, row, numLayers)\n",
    "\n",
    "    # calculate success and error\n",
    "    target_values = make_target_values(row, y_test)\n",
    "    test_success += calculate_success(target_values)\n",
    "    test_mse += calculate_error(target_values)\n",
    "\n",
    "test_mse = test_mse / X_test.shape[0]\n",
    "\n",
    "print('During testing: ')\n",
    "print('MSE : ', test_mse)\n",
    "print('Success: {} (out of {})'.format(test_success,X_test.shape[0]))"
   ]
  },
  {
   "cell_type": "code",
   "execution_count": null,
   "metadata": {},
   "outputs": [],
   "source": []
  }
 ],
 "metadata": {
  "kernelspec": {
   "display_name": "Python 3",
   "language": "python",
   "name": "python3"
  },
  "language_info": {
   "codemirror_mode": {
    "name": "ipython",
    "version": 3
   },
   "file_extension": ".py",
   "mimetype": "text/x-python",
   "name": "python",
   "nbconvert_exporter": "python",
   "pygments_lexer": "ipython3",
   "version": "3.10.5"
  },
  "orig_nbformat": 4
 },
 "nbformat": 4,
 "nbformat_minor": 2
}
