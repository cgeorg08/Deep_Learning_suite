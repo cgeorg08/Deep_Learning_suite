{
 "cells": [
  {
   "cell_type": "code",
   "execution_count": 1,
   "metadata": {},
   "outputs": [],
   "source": [
    "# imports\n",
    "\n",
    "import os \n",
    "import math\n",
    "import numpy as np \n",
    "from tqdm import tqdm\n",
    "import matplotlib.pyplot as plt\n",
    "\n",
    "\n",
    "# methods\n",
    "\n",
    "'''\n",
    "Map each letter to a number in the range 0-25 (26 letters in total).\n",
    "'''\n",
    "def letter2num(letter):\n",
    "    return int(ord(letter) - 65)\n",
    "\n",
    "'''\n",
    "Add +1 column for the bias. \n",
    "'''\n",
    "def add_bias_input(X):\n",
    "    bias_array = np.ones(len(X))\n",
    "    X = np.c_[X,bias_array]\n",
    "    return X\n",
    "\n",
    "'''\n",
    "Shuffle the data.\n",
    "'''\n",
    "def shuffle_data(X, y,features):\n",
    "    data_table = np.c_[X,y]\n",
    "    np.random.shuffle(data_table)\n",
    "    return data_table[:,:features], data_table[:,features]\n",
    "\n",
    "'''\n",
    "Split the data of a given table (input or output) into training and testing sets considering a fraction.\n",
    "'''\n",
    "def train_test_split(table,fraction):\n",
    "    train_size = len(table) * fraction\n",
    "    train_size = math.floor(train_size)\n",
    "    test_size = train_size + 1\n",
    "    return table[:test_size], table[test_size:]\n",
    "\n",
    "'''\n",
    "Create numpy array (either 1d or 2d) and fill it with NaNs.\n",
    "'''\n",
    "def create_array(dim1, dim2):\n",
    "    if dim2 != 0:   # 2d\n",
    "        arr=np.empty((dim1,dim2))\n",
    "    else:           # 1d\n",
    "        arr=np.empty(dim1)\n",
    "    arr.fill(np.NaN)\n",
    "    return arr\n",
    "\n",
    "'''\n",
    "Sigmoid activation function.\n",
    "'''\n",
    "def sigmoid(z):\n",
    "    return 1 / (1 + np.exp(-z))\n",
    "\n",
    "'''\n",
    "Apply the forward pass: find the values of the neurons using the dot product. \n",
    "'''\n",
    "def forward_phase(x_array, row):\n",
    "    for i in range(numHid1):\n",
    "        nodesHid1_values[i] = sigmoid(np.dot(x_array[row,:],in2hid_weights[:,i]))\n",
    "    for i in range(numHid2):\n",
    "        nodesHid2_values[i] = sigmoid(np.dot(nodesHid1_values[:],hid2hid_weights[:,i]))\n",
    "    for i in range(numOutput):\n",
    "        nodesOut_values[i] = sigmoid(np.dot(nodesHid2_values[:],hid2out_weights[:,i]))\n",
    "\n",
    "'''\n",
    "Return 1 if the current image is classified correctly.\n",
    "'''\n",
    "def calculate_success(target_values):\n",
    "    if target_values[np.argmax(nodesOut_values)] == 1:\n",
    "        return 1\n",
    "    return 0\n",
    "\n",
    "'''\n",
    "Return \"cost\" of the current image to find Mean Square Error in the end of the epoch.\n",
    "'''\n",
    "def calculate_error(target_values):\n",
    "    return sum(np.square(nodesOut_values - target_values))\n",
    "\n",
    "def make_target_values(row, table):\n",
    "    arr=np.zeros(26)\n",
    "    arr[int(table[row])] = 1\n",
    "    return arr\n",
    "\n",
    "'''\n",
    "Update weights using the negative gradient to minimize the error.\n",
    "'''\n",
    "def backward_phase(row, target_values):\n",
    "    global nodesOut_deriv\n",
    "    nodesOut_deriv = nodesOut_values - target_values\n",
    "    for i in range(hid2out_weights.shape[0]):\n",
    "        for j in range(hid2out_weights.shape[1]):\n",
    "            tmp = hid2out_weights[i][j]\n",
    "            hid2out_weights[i][j] = hid2out_weights[i][j] - learning_rate * (nodesHid2_values[i] * nodesOut_values[j] * (1-nodesOut_values[j]) * nodesOut_deriv[j]) + momentum * (hid2out_weights[i][j] - hid2out_oldweights[i][j])\n",
    "            hid2out_oldweights[i][j] = tmp\n",
    "    \n",
    "    for z in range(nodesHid2_deriv.shape[0]):\n",
    "        nodesHid2_deriv[z] = 0\n",
    "        for w in range(numOutput):\n",
    "            nodesHid2_deriv[z] = nodesHid2_deriv[z] + (hid2out_weights[z][w] * nodesOut_values[w] * (1-nodesOut_values[w]) * nodesOut_deriv[w])\n",
    "    for i in range(hid2hid_weights.shape[0]):\n",
    "        for j in range(hid2hid_weights.shape[1]):\n",
    "            tmp = hid2hid_weights[i][j]\n",
    "            hid2hid_weights[i][j] = hid2hid_weights[i][j] - learning_rate * (nodesHid1_values[i] * nodesHid2_values[j] * (1-nodesHid2_values[j]) * nodesHid2_deriv[j]) + momentum * (hid2hid_weights[i][j] - hid2hid_oldweights[i][j])\n",
    "            hid2hid_oldweights[i][j] = tmp\n",
    "\n",
    "    for z in range(nodesHid1_deriv.shape[0]):\n",
    "        nodesHid1_deriv[z] = 0\n",
    "        for w in range(numHid2):\n",
    "            nodesHid1_deriv[z] = nodesHid1_deriv[z] + (hid2hid_weights[z][w] * nodesHid2_values[w] * (1-nodesHid2_values[w]) * nodesHid2_deriv[w])\n",
    "    for i in range(in2hid_weights.shape[0]):\n",
    "        for j in range(in2hid_weights.shape[1]):\n",
    "            tmp = in2hid_weights[i][j]\n",
    "            in2hid_weights[i][j] = in2hid_weights[i][j] - learning_rate * (X_train[row][i] * nodesHid1_values[j] * (1-nodesHid1_values[j]) * nodesHid1_deriv[j]) + momentum * (in2hid_weights[i][j] - in2hid_oldweights[i][j])\n",
    "            in2hid_oldweights[i][j] = tmp\n",
    "\n",
    "'''\n",
    "Vizualize monitored metric.\n",
    "'''\n",
    "def vizual(metric, label):\n",
    "    plt.plot(metric)\n",
    "\n",
    "    plt.xlabel(\"EPOCHS\")\n",
    "    plt.ylabel(label)\n",
    "    plt.title('{} over the EPOCHS'.format(label))\n",
    "    plt.show()"
   ]
  },
  {
   "cell_type": "code",
   "execution_count": 2,
   "metadata": {},
   "outputs": [],
   "source": [
    "X = list()\n",
    "y = list()\n",
    "\n",
    "# load the data\n",
    "file = open(os.path.dirname(os.path.abspath(\"__file__\")) + '/datasets/problem2_data.txt')\n",
    "for line in file.readlines():\n",
    "    vector = line.split(',')\n",
    "\n",
    "    y.append(letter2num(vector[0]))\n",
    "    current_list = list()\n",
    "    for i in range(1,len(vector)):\n",
    "        num = int(vector[i].replace('\\n', ''))\n",
    "        num = num / 15.0    # scaling\n",
    "        current_list.append(num)\n",
    "    X.append(current_list)\n",
    "file.close()\n",
    "\n",
    "# add bias\n",
    "np.random.seed(10)\n",
    "X = add_bias_input(X)\n",
    "\n",
    "# shuffle the data\n",
    "features = X.shape[1]\n",
    "X, y = shuffle_data(X, y,features)\n",
    "\n",
    "# split to train and test sets\n",
    "fraction = 0.7\n",
    "X_train, X_test = train_test_split(X,fraction)\n",
    "y_train, y_test = train_test_split(y,fraction)"
   ]
  },
  {
   "cell_type": "code",
   "execution_count": 3,
   "metadata": {},
   "outputs": [],
   "source": [
    "# Neural network constants\n",
    "\n",
    "numInput = features\n",
    "numHid1 = 10\n",
    "numHid2 = 10\n",
    "numOutput = 26 # letters of english alphabet\n",
    "numLayers = 4\n",
    "\n",
    "learning_rate = 0.4\n",
    "epochs = 100\n",
    "momentum = 0.8\n",
    "\n",
    "# weights\n",
    "in2hid_weights = np.random.rand(numInput,numHid1)\n",
    "hid2hid_weights = np.random.rand(numHid1,numHid2)\n",
    "hid2out_weights = np.random.rand(numHid1,numOutput)\n",
    "\n",
    "# old weights\n",
    "in2hid_oldweights = np.copy(in2hid_weights)\n",
    "hid2hid_oldweights = np.copy(hid2hid_weights)\n",
    "hid2out_oldweights = np.copy(hid2out_weights)\n",
    "\n",
    "# values\n",
    "nodesHid1_values = create_array(dim1=numHid1,dim2=0)\n",
    "nodesHid2_values = create_array(dim1=numHid2,dim2=0)\n",
    "nodesOut_values = create_array(dim1=numOutput,dim2=0)\n",
    "\n",
    "# derivatives\n",
    "nodesHid1_deriv = create_array(dim1=numHid1,dim2=0)\n",
    "nodesHid2_deriv = create_array(dim1=numHid2,dim2=0)\n",
    "nodesOut_deriv = create_array(dim1=numOutput,dim2=0)"
   ]
  },
  {
   "cell_type": "code",
   "execution_count": 4,
   "metadata": {},
   "outputs": [
    {
     "name": "stderr",
     "output_type": "stream",
     "text": [
      "  0%|          | 0/100 [00:00<?, ?it/s]"
     ]
    },
    {
     "name": "stderr",
     "output_type": "stream",
     "text": [
      "100%|██████████| 100/100 [40:56<00:00, 24.56s/it]\n"
     ]
    }
   ],
   "source": [
    "success_list = list()\n",
    "mse_list = list()\n",
    "\n",
    "for ep in tqdm(range(epochs)):\n",
    "\n",
    "    epoch_success = 0\n",
    "    epoch_mse = 0\n",
    "\n",
    "    for row in range(X_train.shape[0]):\n",
    "\n",
    "        # forward phase\n",
    "        forward_phase(X_train, row)\n",
    "\n",
    "        # calculate success and error\n",
    "        target_values = make_target_values(row, y_train)\n",
    "        epoch_success += calculate_success(target_values)\n",
    "        epoch_mse += calculate_error(target_values)\n",
    "\n",
    "        # backward phase\n",
    "        backward_phase(row, target_values)\n",
    "\n",
    "    epoch_mse = epoch_mse / X_train.shape[0]\n",
    "\n",
    "    success_list.append(epoch_success)\n",
    "    mse_list.append(epoch_mse)"
   ]
  },
  {
   "cell_type": "code",
   "execution_count": 18,
   "metadata": {},
   "outputs": [
    {
     "name": "stdout",
     "output_type": "stream",
     "text": [
      "[527, 549, 1419, 2385, 4004, 5459, 5911, 6276, 6466, 6492, 6941, 6848, 6948, 7002, 7133, 7188, 7393, 7271, 7497, 7425, 7549, 7449, 7709, 7554, 7719, 7373, 7919, 8056, 7900, 8109, 8069, 8136, 7937, 8109, 8057, 8143, 8216, 8252, 8139, 8269, 8194, 8269, 8436, 8262, 8154, 8336, 8139, 8296, 8169, 8250, 8280, 8359, 8301, 8432, 8235, 8210, 8201, 8367, 8309, 8253, 8217, 8338, 8512, 8523, 8503, 8445, 8465, 8430, 7917, 8271, 8481, 8358, 8665, 8677, 8553, 8033, 8485, 8331, 8405, 8454, 8588, 8742, 8564, 8320, 8023, 8627, 8559, 8334, 8572, 8416, 8428, 8385, 8631, 8452, 8614, 8694, 8521, 8739, 8394, 8272]\n",
      "----------------\n",
      "[1.006836275865703, 0.9640485089092344, 0.9288599249963299, 0.8797137474685265, 0.8067342200177461, 0.7359745707692266, 0.7150311908464098, 0.6926232146853022, 0.6834722941808954, 0.6694026703005795, 0.6402634607431328, 0.6407278929698313, 0.6388744294628637, 0.6349873403153096, 0.6239158039137754, 0.6222934941039151, 0.6052355129318922, 0.6155195147991711, 0.5932413899010097, 0.6015365701385346, 0.5989415291472487, 0.6051036085566025, 0.5928773505326799, 0.6003975514193137, 0.5964175984457949, 0.6118879898826101, 0.5734010877666205, 0.5663579337074209, 0.5781215269865261, 0.5628430463432833, 0.5730367713242847, 0.5663546882824467, 0.5830480042710635, 0.5682872076265258, 0.5721193625952955, 0.5682003409553962, 0.5565243894331696, 0.550995828599974, 0.5676860168879844, 0.5527346486696866, 0.5640078150926433, 0.5567366840908462, 0.5342040915284509, 0.5569241722089414, 0.5605414027042892, 0.5578225732537601, 0.571945218001884, 0.557165012966289, 0.5696238311411413, 0.5603961218515716, 0.5572188318208974, 0.5516324529512286, 0.5508224694231005, 0.5484733731872371, 0.5589870997014925, 0.5639812252643872, 0.5624603092304121, 0.5525445172880715, 0.5573776451042276, 0.5609359656430702, 0.5628115020271545, 0.5518902931655604, 0.5398505273828265, 0.5453818416043877, 0.5442253010623268, 0.5446883022042962, 0.5439077127866454, 0.5440871924772229, 0.5965498786254485, 0.566212027013974, 0.5380691126040463, 0.5515622975294672, 0.521885445851218, 0.5217121402716113, 0.5352474777289336, 0.5797624913041568, 0.5400883188441251, 0.5537739811763206, 0.5420558384010014, 0.5425604268420153, 0.5332402499832372, 0.52072445500024, 0.5401369955503725, 0.5477462211996154, 0.5756434089788769, 0.5280086552402973, 0.5323438141354403, 0.5449611870109283, 0.5300104513144919, 0.5356845921711699, 0.5451782565642515, 0.5511643446703127, 0.5237912317144777, 0.533520597169132, 0.5268216196299962, 0.5204887641462298, 0.5369295405012781, 0.5156020618945835, 0.5437148493481638, 0.5525961443184936]\n"
     ]
    }
   ],
   "source": [
    "print(success_list)\n",
    "print('----------------')\n",
    "print(mse_list)"
   ]
  },
  {
   "cell_type": "code",
   "execution_count": 5,
   "metadata": {},
   "outputs": [
    {
     "data": {
      "image/png": "[encoded data removed]",
      "text/plain": [
       "<Figure size 432x288 with 1 Axes>"
      ]
     },
     "metadata": {
      "needs_background": "light"
     },
     "output_type": "display_data"
    },
    {
     "data": {
      "image/png": "[encoded data removed]",
      "text/plain": [
       "<Figure size 432x288 with 1 Axes>"
      ]
     },
     "metadata": {
      "needs_background": "light"
     },
     "output_type": "display_data"
    }
   ],
   "source": [
    "vizual(success_list,'success')\n",
    "vizual(mse_list,'mse')"
   ]
  },
  {
   "cell_type": "code",
   "execution_count": 6,
   "metadata": {},
   "outputs": [
    {
     "name": "stdout",
     "output_type": "stream",
     "text": [
      "During testing: \n",
      "MSE :  0.5016831647762331\n",
      "Success: 3760 (out of 5999)\n"
     ]
    }
   ],
   "source": [
    "test_success = 0\n",
    "test_mse = 0\n",
    "for row in range(X_test.shape[0]):\n",
    "\n",
    "    # forward phase\n",
    "    forward_phase(X_test, row)\n",
    "\n",
    "    # calculate success and error\n",
    "    target_values = make_target_values(row, y_test)\n",
    "    test_success += calculate_success(target_values)\n",
    "    test_mse += calculate_error(target_values)\n",
    "\n",
    "test_mse = test_mse / X_test.shape[0]\n",
    "\n",
    "print('During testing: ')\n",
    "print('MSE : ', test_mse)\n",
    "print('Success: {} (out of {})'.format(test_success,X_test.shape[0]))"
   ]
  },
  {
   "cell_type": "code",
   "execution_count": null,
   "metadata": {},
   "outputs": [],
   "source": []
  }
 ],
 "metadata": {
  "kernelspec": {
   "display_name": "Python 3",
   "language": "python",
   "name": "python3"
  },
  "language_info": {
   "codemirror_mode": {
    "name": "ipython",
    "version": 3
   },
   "file_extension": ".py",
   "mimetype": "text/x-python",
   "name": "python",
   "nbconvert_exporter": "python",
   "pygments_lexer": "ipython3",
   "version": "3.10.5"
  },
  "orig_nbformat": 4
 },
 "nbformat": 4,
 "nbformat_minor": 2
}
